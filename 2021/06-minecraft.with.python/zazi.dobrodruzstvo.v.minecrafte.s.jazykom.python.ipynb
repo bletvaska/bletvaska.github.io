{
 "cells": [
  {
   "cell_type": "markdown",
   "id": "7e5e7126",
   "metadata": {
    "slideshow": {
     "slide_type": "slide"
    }
   },
   "source": [
    "# Zaži dobrodružstvo v Minecrafte s jazykom Python\n",
    "\n",
    "mocné mocné"
   ]
  },
  {
   "cell_type": "markdown",
   "id": "0277effb",
   "metadata": {
    "slideshow": {
     "slide_type": "slide"
    }
   },
   "source": [
    "## Pripájame sa do Minecraft-u"
   ]
  },
  {
   "cell_type": "markdown",
   "id": "8dca5698",
   "metadata": {},
   "source": [
    "Ak je Minecraft spustený na rovnakom počítači, tak sa k nemu dá pripojiť takto:"
   ]
  },
  {
   "cell_type": "code",
   "execution_count": 10,
   "id": "de02ac26",
   "metadata": {},
   "outputs": [],
   "source": [
    "from mcpi.minecraft import Minecraft\n",
    "\n",
    "mc = Minecraft.create()\n",
    "mc.postToChat('Hello world!')"
   ]
  },
  {
   "cell_type": "markdown",
   "id": "d97cbef9",
   "metadata": {},
   "source": [
    "Predvolené hodnoty pre pripojenie pomocou metódy `.create()` sú:\n",
    " \n",
    "* `port` - `4711`\n",
    "* `address` - `\"localhost\"`"
   ]
  },
  {
   "cell_type": "markdown",
   "id": "b43059a1",
   "metadata": {},
   "source": [
    "Ak je Minecraft spustený na inom počítači, pripojíte sa k nemu takto:"
   ]
  },
  {
   "cell_type": "code",
   "execution_count": 5,
   "id": "e3ee0fa2",
   "metadata": {},
   "outputs": [],
   "source": [
    "from mcpi.minecraft import Minecraft\n",
    "\n",
    "mc = Minecraft.create('10.0.0.110')\n",
    "mc.postToChat('Hello world!')"
   ]
  },
  {
   "cell_type": "markdown",
   "id": "610c7fb2",
   "metadata": {},
   "source": [
    "## Predstavenie koordinačného systému"
   ]
  },
  {
   "cell_type": "markdown",
   "id": "82115049-6d84-4e89-8f93-9f9cd70d2f83",
   "metadata": {},
   "source": [
    "![Minecraft Coordinate System](images/coordinate.system.png)"
   ]
  },
  {
   "cell_type": "markdown",
   "id": "776bcedd-40ad-4338-8182-20e5deaf5746",
   "metadata": {},
   "source": [
    "Opýtame sa hráča, kde sa nachádza:\n"
   ]
  },
  {
   "cell_type": "code",
   "execution_count": 7,
   "id": "43ab9d2a-b651-4d5e-b39a-8b2b66727679",
   "metadata": {},
   "outputs": [
    {
     "data": {
      "text/plain": [
       "Vec3(-105.7,18.1317,102.585)"
      ]
     },
     "execution_count": 7,
     "metadata": {},
     "output_type": "execute_result"
    }
   ],
   "source": [
    "mc.player.getPos()"
   ]
  },
  {
   "cell_type": "markdown",
   "id": "3533b2fa-9ce1-4273-93a9-66d3e5988568",
   "metadata": {},
   "source": [
    "Tu vidieť desatinné hodnoty. Poloha sa skladá:\n",
    "* celé číslo - absolútna pozícia bloku vo svete\n",
    "* desatinná časť čísla - jemná poloha hráča na konkrétnom bloku"
   ]
  },
  {
   "cell_type": "code",
   "execution_count": 6,
   "id": "676b9150-c4a7-4de9-8613-023eb8aa258e",
   "metadata": {},
   "outputs": [
    {
     "data": {
      "text/plain": [
       "Vec3(-107,18,110)"
      ]
     },
     "execution_count": 6,
     "metadata": {},
     "output_type": "execute_result"
    }
   ],
   "source": [
    "mc.player.getTilePos()"
   ]
  },
  {
   "cell_type": "markdown",
   "id": "5cd30582",
   "metadata": {},
   "source": [
    "## Sprav blok"
   ]
  },
  {
   "cell_type": "markdown",
   "id": "cf385e6d",
   "metadata": {},
   "source": [
    "mc."
   ]
  },
  {
   "cell_type": "code",
   "execution_count": 15,
   "id": "96150a55",
   "metadata": {},
   "outputs": [],
   "source": [
    "mc.postToChat('ahoj')"
   ]
  },
  {
   "cell_type": "code",
   "execution_count": 8,
   "id": "f7b6f248",
   "metadata": {},
   "outputs": [
    {
     "data": {
      "text/plain": [
       "\u001b[0;31mSignature:\u001b[0m \u001b[0mMinecraft\u001b[0m\u001b[0;34m.\u001b[0m\u001b[0mcreate\u001b[0m\u001b[0;34m(\u001b[0m\u001b[0maddress\u001b[0m\u001b[0;34m=\u001b[0m\u001b[0;34m'localhost'\u001b[0m\u001b[0;34m,\u001b[0m \u001b[0mport\u001b[0m\u001b[0;34m=\u001b[0m\u001b[0;36m4711\u001b[0m\u001b[0;34m)\u001b[0m\u001b[0;34m\u001b[0m\u001b[0;34m\u001b[0m\u001b[0m\n",
       "\u001b[0;31mDocstring:\u001b[0m <no docstring>\n",
       "\u001b[0;31mFile:\u001b[0m      ~/.cache/pypoetry/virtualenvs/minecraft-euKLhQi_-py3.9/lib/python3.9/site-packages/mcpi/minecraft.py\n",
       "\u001b[0;31mType:\u001b[0m      function\n"
      ]
     },
     "metadata": {},
     "output_type": "display_data"
    }
   ],
   "source": [
    "Minecraft.create?\n"
   ]
  },
  {
   "cell_type": "markdown",
   "id": "7b5c7ad2-3af6-4a7f-9910-2c0b99695fc0",
   "metadata": {},
   "source": [
    "## Tipy"
   ]
  },
  {
   "cell_type": "markdown",
   "id": "b14d8c80-e800-44f6-8e91-59dc96b22bb4",
   "metadata": {},
   "source": [
    "### Zapnutie/vypnutie lietania"
   ]
  },
  {
   "cell_type": "markdown",
   "id": "d455959f-7af3-4beb-85b3-946dfc987e6c",
   "metadata": {},
   "source": [
    "Treba zapnúť konzolu `/` a napísať príkaz:"
   ]
  },
  {
   "cell_type": "raw",
   "id": "86d6112c-c9df-43c7-b4aa-016b415a2929",
   "metadata": {},
   "source": [
    "/grant playername fly"
   ]
  },
  {
   "cell_type": "markdown",
   "id": "e533adf9-0fad-4cb0-b397-c61248bd47ce",
   "metadata": {},
   "source": [
    "Následne sa lietanie zapína/vypína klávesou `K` a lieta sa medzerníkom."
   ]
  },
  {
   "cell_type": "markdown",
   "id": "f5fe3c0f-cff8-4852-a0bb-70a86e490c8e",
   "metadata": {},
   "source": [
    "### Vypnutie striedania dňa a noci"
   ]
  },
  {
   "cell_type": "markdown",
   "id": "07697296-1fd8-4121-911f-67dec47e0d59",
   "metadata": {},
   "source": [
    "Najprv treba pridať povolenie `settime` pre hráča:"
   ]
  },
  {
   "cell_type": "raw",
   "id": "7631c401-1bb1-460a-8199-6ca0b697b161",
   "metadata": {},
   "source": [
    "/grant playername settime"
   ]
  },
  {
   "cell_type": "markdown",
   "id": "a1ae7981-4867-4886-945e-654c46f7a609",
   "metadata": {},
   "source": [
    "Potom treba nastaviť rýchlosť času na `0` a nastaviť konkrétny čas:"
   ]
  },
  {
   "cell_type": "raw",
   "id": "0f9ad32f-a376-4b4a-801b-21c2b5aa7ed5",
   "metadata": {},
   "source": [
    "/set time_speed 0\n",
    "/time 6000"
   ]
  },
  {
   "cell_type": "code",
   "execution_count": null,
   "id": "656ff26e-ffea-459d-8416-43792a441bd4",
   "metadata": {},
   "outputs": [],
   "source": []
  }
 ],
 "metadata": {
  "kernelspec": {
   "display_name": "Python 3",
   "language": "python",
   "name": "python3"
  },
  "language_info": {
   "codemirror_mode": {
    "name": "ipython",
    "version": 3
   },
   "file_extension": ".py",
   "mimetype": "text/x-python",
   "name": "python",
   "nbconvert_exporter": "python",
   "pygments_lexer": "ipython3",
   "version": "3.9.5"
  },
  "toc-showtags": false
 },
 "nbformat": 4,
 "nbformat_minor": 5
}
